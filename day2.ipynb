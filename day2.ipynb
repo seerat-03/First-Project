{
  "nbformat": 4,
  "nbformat_minor": 0,
  "metadata": {
    "colab": {
      "provenance": [],
      "authorship_tag": "ABX9TyPAKAWWHilponRjU072HSD9",
      "include_colab_link": true
    },
    "kernelspec": {
      "name": "python3",
      "display_name": "Python 3"
    },
    "language_info": {
      "name": "python"
    }
  },
  "cells": [
    {
      "cell_type": "markdown",
      "metadata": {
        "id": "view-in-github",
        "colab_type": "text"
      },
      "source": [
        "<a href=\"https://colab.research.google.com/github/seerat-03/First-Project/blob/main/day2.ipynb\" target=\"_parent\"><img src=\"https://colab.research.google.com/assets/colab-badge.svg\" alt=\"Open In Colab\"/></a>"
      ]
    },
    {
      "cell_type": "markdown",
      "source": [
        "List"
      ],
      "metadata": {
        "id": "AX_zgX8hGPWp"
      }
    },
    {
      "cell_type": "code",
      "execution_count": 7,
      "metadata": {
        "colab": {
          "base_uri": "https://localhost:8080/"
        },
        "id": "ctMDbYLdH8R2",
        "outputId": "145b50d3-2b73-4ffa-cd7c-6d2c93dd819d"
      },
      "outputs": [
        {
          "output_type": "stream",
          "name": "stdout",
          "text": [
            "[11, 12, 13, 14]\n",
            "[11, 12, 13, 14, 50]\n",
            "[11, 12, 13, 14, 50, 60]\n"
          ]
        }
      ],
      "source": [
        "L=[11,12,13,14]\n",
        "print(L)\n",
        "L.append(50)\n",
        "print(L)\n",
        "L.append(60)\n",
        "print(L)"
      ]
    },
    {
      "cell_type": "code",
      "source": [
        "L=[11,12,13,14]\n",
        "print(L)\n",
        "L.remove(11)\n",
        "print(L)\n",
        "L.remove(13)\n",
        "print(L)"
      ],
      "metadata": {
        "colab": {
          "base_uri": "https://localhost:8080/"
        },
        "id": "v2vlDx_wIG73",
        "outputId": "5b8f981f-7737-401b-8199-dcb547b41674"
      },
      "execution_count": 9,
      "outputs": [
        {
          "output_type": "stream",
          "name": "stdout",
          "text": [
            "[11, 12, 13, 14]\n",
            "[12, 13, 14]\n",
            "[12, 14]\n"
          ]
        }
      ]
    },
    {
      "cell_type": "code",
      "source": [
        "L=[11,12,13,14]\n",
        "print(L)\n",
        "L.sort(reverse=True)\n",
        "print(L)"
      ],
      "metadata": {
        "colab": {
          "base_uri": "https://localhost:8080/"
        },
        "id": "ovmPSauNJhLd",
        "outputId": "b5407a6c-cb98-411c-b1a2-5fd45c5d6dcb"
      },
      "execution_count": 11,
      "outputs": [
        {
          "output_type": "stream",
          "name": "stdout",
          "text": [
            "[11, 12, 13, 14]\n",
            "[14, 13, 12, 11]\n"
          ]
        }
      ]
    },
    {
      "cell_type": "code",
      "source": [
        "L=[11,12,13,14]\n",
        "print(L)\n",
        "if(13 in L)==True:\n",
        "  print(\"present\")\n",
        "else:\n",
        "  print(\"not present\")"
      ],
      "metadata": {
        "colab": {
          "base_uri": "https://localhost:8080/"
        },
        "id": "AMWE5jGXKA_D",
        "outputId": "b1d54aec-8b0b-46e2-8f89-63bf3dbe6142"
      },
      "execution_count": 12,
      "outputs": [
        {
          "output_type": "stream",
          "name": "stdout",
          "text": [
            "[11, 12, 13, 14]\n",
            "present\n"
          ]
        }
      ]
    },
    {
      "cell_type": "code",
      "source": [
        "L=[11,12,13,14]\n",
        "print(L)\n",
        "a= len(L)\n",
        "print(a)"
      ],
      "metadata": {
        "colab": {
          "base_uri": "https://localhost:8080/"
        },
        "id": "ttJtrlVkLMy5",
        "outputId": "b2f75ceb-93ed-467b-c1b8-55514ad5ce5a"
      },
      "execution_count": 16,
      "outputs": [
        {
          "output_type": "stream",
          "name": "stdout",
          "text": [
            "[11, 12, 13, 14]\n",
            "4\n"
          ]
        }
      ]
    },
    {
      "cell_type": "code",
      "source": [
        "L=[11,12,13,14]\n",
        "print(L)\n",
        "a=sum(L)\n",
        "print(\"sum=\",a)"
      ],
      "metadata": {
        "colab": {
          "base_uri": "https://localhost:8080/"
        },
        "id": "rKkX7MqyLoBd",
        "outputId": "86bc3a35-193b-4914-a7e9-568e10263e3b"
      },
      "execution_count": 18,
      "outputs": [
        {
          "output_type": "stream",
          "name": "stdout",
          "text": [
            "[11, 12, 13, 14]\n",
            "sum= 50\n"
          ]
        }
      ]
    },
    {
      "cell_type": "code",
      "source": [
        "L=[11,12,13,14]\n",
        "print(L)\n",
        "sum=0\n",
        "for n in L:\n",
        "  if (n%2!=0):\n",
        "    sum=sum+n\n",
        "print(\"sum of odd numbers=\",sum)"
      ],
      "metadata": {
        "colab": {
          "base_uri": "https://localhost:8080/"
        },
        "id": "kphQLJnmLfNR",
        "outputId": "daf4674a-e7eb-41eb-96fd-c7cb19cc06e5"
      },
      "execution_count": 24,
      "outputs": [
        {
          "output_type": "stream",
          "name": "stdout",
          "text": [
            "[11, 12, 13, 14]\n",
            "sum of odd numbers= 24\n"
          ]
        }
      ]
    },
    {
      "cell_type": "code",
      "source": [
        "L=[11,12,13,14]\n",
        "print(L)\n",
        "sum=0\n",
        "for n in L:\n",
        "  if (n%2==0):\n",
        "    sum=sum+n\n",
        "print(\"sum of even numbers=\",sum)"
      ],
      "metadata": {
        "colab": {
          "base_uri": "https://localhost:8080/"
        },
        "id": "vyVlAxbfNEZM",
        "outputId": "82d1eceb-475a-4a66-d8fe-e13064012b77"
      },
      "execution_count": 25,
      "outputs": [
        {
          "output_type": "stream",
          "name": "stdout",
          "text": [
            "[11, 12, 13, 14]\n",
            "sum of even numbers= 26\n"
          ]
        }
      ]
    },
    {
      "cell_type": "code",
      "source": [
        "L = [11, 12, 13, 14]\n",
        "total = 0\n",
        "for num in L:\n",
        "    if num > 1:\n",
        "        for i in range(2, num):\n",
        "            if num % i == 0:\n",
        "                break\n",
        "        else:\n",
        "            total += num\n",
        "print(\"Sum of prime numbers:\", total)"
      ],
      "metadata": {
        "colab": {
          "base_uri": "https://localhost:8080/"
        },
        "id": "u8sXzvYXNffo",
        "outputId": "71af1a2e-c7d5-4177-f441-3c6cdf277e06"
      },
      "execution_count": 28,
      "outputs": [
        {
          "output_type": "stream",
          "name": "stdout",
          "text": [
            "Sum of prime numbers: 24\n"
          ]
        }
      ]
    },
    {
      "cell_type": "code",
      "source": [
        "L=[11,12,13,14]\n",
        "print(L)\n",
        "L.clear()\n",
        "print(L)"
      ],
      "metadata": {
        "colab": {
          "base_uri": "https://localhost:8080/"
        },
        "id": "henguqJFQQB9",
        "outputId": "8df4ba9e-ffd4-4469-ed24-823d220098a9"
      },
      "execution_count": 29,
      "outputs": [
        {
          "output_type": "stream",
          "name": "stdout",
          "text": [
            "[11, 12, 13, 14]\n",
            "[]\n"
          ]
        }
      ]
    },
    {
      "cell_type": "code",
      "source": [
        "L=[11,12,13,14]\n",
        "print(L)\n",
        "del L\n",
        "print(L)\n"
      ],
      "metadata": {
        "colab": {
          "base_uri": "https://localhost:8080/",
          "height": 193
        },
        "id": "1SP60z24QblD",
        "outputId": "03def5be-d172-44a2-e41a-08588abae9ec"
      },
      "execution_count": 37,
      "outputs": [
        {
          "output_type": "stream",
          "name": "stdout",
          "text": [
            "[11, 12, 13, 14]\n"
          ]
        },
        {
          "output_type": "error",
          "ename": "NameError",
          "evalue": "name 'L' is not defined",
          "traceback": [
            "\u001b[0;31m---------------------------------------------------------------------------\u001b[0m",
            "\u001b[0;31mNameError\u001b[0m                                 Traceback (most recent call last)",
            "\u001b[0;32m<ipython-input-37-700223334>\u001b[0m in \u001b[0;36m<cell line: 0>\u001b[0;34m()\u001b[0m\n\u001b[1;32m      2\u001b[0m \u001b[0mprint\u001b[0m\u001b[0;34m(\u001b[0m\u001b[0mL\u001b[0m\u001b[0;34m)\u001b[0m\u001b[0;34m\u001b[0m\u001b[0;34m\u001b[0m\u001b[0m\n\u001b[1;32m      3\u001b[0m \u001b[0;32mdel\u001b[0m \u001b[0mL\u001b[0m\u001b[0;34m\u001b[0m\u001b[0;34m\u001b[0m\u001b[0m\n\u001b[0;32m----> 4\u001b[0;31m \u001b[0mprint\u001b[0m\u001b[0;34m(\u001b[0m\u001b[0mL\u001b[0m\u001b[0;34m)\u001b[0m\u001b[0;34m\u001b[0m\u001b[0;34m\u001b[0m\u001b[0m\n\u001b[0m",
            "\u001b[0;31mNameError\u001b[0m: name 'L' is not defined"
          ]
        }
      ]
    },
    {
      "cell_type": "markdown",
      "source": [
        "Dictionary\n"
      ],
      "metadata": {
        "id": "tWS6Fi27acx5"
      }
    },
    {
      "cell_type": "code",
      "source": [
        "D={1:5.6,2:7.8,3:6.6,4:8.7,5:7.7}\n",
        "D[8]=8.8\n",
        "print(D)"
      ],
      "metadata": {
        "colab": {
          "base_uri": "https://localhost:8080/"
        },
        "id": "XiEGdiAdS5El",
        "outputId": "372d1e7f-36e3-4424-c0ec-d8c8169ddb77"
      },
      "execution_count": 42,
      "outputs": [
        {
          "output_type": "stream",
          "name": "stdout",
          "text": [
            "{1: 5.6, 2: 7.8, 3: 6.6, 4: 8.7, 5: 7.7, 8: 8.8}\n"
          ]
        }
      ]
    },
    {
      "cell_type": "code",
      "source": [
        "D={1:5.6,2:7.8,3:6.6,4:8.7,5:7.7}\n",
        "del D[2]\n",
        "print(D)"
      ],
      "metadata": {
        "colab": {
          "base_uri": "https://localhost:8080/"
        },
        "id": "YTu9JovsT9Dk",
        "outputId": "e6f9b205-7858-4c9f-b387-c66fb1eec6e6"
      },
      "execution_count": 43,
      "outputs": [
        {
          "output_type": "stream",
          "name": "stdout",
          "text": [
            "{1: 5.6, 3: 6.6, 4: 8.7, 5: 7.7}\n"
          ]
        }
      ]
    },
    {
      "cell_type": "code",
      "source": [
        "D={1:5.6,2:7.8,3:6.6,4:8.7,5:7.7}\n",
        "print(D)\n",
        "if(6 in D)==True:\n",
        "  print(\"present\")\n",
        "else:\n",
        "  print(\"not present\")"
      ],
      "metadata": {
        "colab": {
          "base_uri": "https://localhost:8080/"
        },
        "id": "WnUSXtK_UF_7",
        "outputId": "a69f399d-8ad3-476d-8011-b6caeba78e48"
      },
      "execution_count": 46,
      "outputs": [
        {
          "output_type": "stream",
          "name": "stdout",
          "text": [
            "{1: 5.6, 2: 7.8, 3: 6.6, 4: 8.7, 5: 7.7}\n",
            "not present\n"
          ]
        }
      ]
    },
    {
      "cell_type": "code",
      "source": [
        "D={1:5.6,2:7.8,3:6.6,4:8.7,5:7.7}\n",
        "print(D)\n",
        "a=len(D)\n",
        "print(a)\n"
      ],
      "metadata": {
        "colab": {
          "base_uri": "https://localhost:8080/"
        },
        "id": "8-X5zzwhUqmA",
        "outputId": "f24235c8-8d26-441c-fa3e-66f0aa1bc12c"
      },
      "execution_count": 48,
      "outputs": [
        {
          "output_type": "stream",
          "name": "stdout",
          "text": [
            "{1: 5.6, 2: 7.8, 3: 6.6, 4: 8.7, 5: 7.7}\n",
            "5\n"
          ]
        }
      ]
    },
    {
      "cell_type": "code",
      "source": [
        "D={1:5.6,2:7.8,3:6.6,4:8.7,5:7.7}\n",
        "print(D)\n",
        "total = sum(D.values())\n",
        "print(\"Sum of all values:\", total)"
      ],
      "metadata": {
        "colab": {
          "base_uri": "https://localhost:8080/",
          "height": 211
        },
        "id": "bKA7MNIGVBE2",
        "outputId": "071a1075-9021-48c4-c57d-683880249b20"
      },
      "execution_count": 53,
      "outputs": [
        {
          "output_type": "stream",
          "name": "stdout",
          "text": [
            "{1: 5.6, 2: 7.8, 3: 6.6, 4: 8.7, 5: 7.7}\n"
          ]
        },
        {
          "output_type": "error",
          "ename": "TypeError",
          "evalue": "'int' object is not callable",
          "traceback": [
            "\u001b[0;31m---------------------------------------------------------------------------\u001b[0m",
            "\u001b[0;31mTypeError\u001b[0m                                 Traceback (most recent call last)",
            "\u001b[0;32m<ipython-input-53-682054075>\u001b[0m in \u001b[0;36m<cell line: 0>\u001b[0;34m()\u001b[0m\n\u001b[1;32m      1\u001b[0m \u001b[0mD\u001b[0m\u001b[0;34m=\u001b[0m\u001b[0;34m{\u001b[0m\u001b[0;36m1\u001b[0m\u001b[0;34m:\u001b[0m\u001b[0;36m5.6\u001b[0m\u001b[0;34m,\u001b[0m\u001b[0;36m2\u001b[0m\u001b[0;34m:\u001b[0m\u001b[0;36m7.8\u001b[0m\u001b[0;34m,\u001b[0m\u001b[0;36m3\u001b[0m\u001b[0;34m:\u001b[0m\u001b[0;36m6.6\u001b[0m\u001b[0;34m,\u001b[0m\u001b[0;36m4\u001b[0m\u001b[0;34m:\u001b[0m\u001b[0;36m8.7\u001b[0m\u001b[0;34m,\u001b[0m\u001b[0;36m5\u001b[0m\u001b[0;34m:\u001b[0m\u001b[0;36m7.7\u001b[0m\u001b[0;34m}\u001b[0m\u001b[0;34m\u001b[0m\u001b[0;34m\u001b[0m\u001b[0m\n\u001b[1;32m      2\u001b[0m \u001b[0mprint\u001b[0m\u001b[0;34m(\u001b[0m\u001b[0mD\u001b[0m\u001b[0;34m)\u001b[0m\u001b[0;34m\u001b[0m\u001b[0;34m\u001b[0m\u001b[0m\n\u001b[0;32m----> 3\u001b[0;31m \u001b[0mtotal\u001b[0m \u001b[0;34m=\u001b[0m \u001b[0msum\u001b[0m\u001b[0;34m(\u001b[0m\u001b[0mD\u001b[0m\u001b[0;34m.\u001b[0m\u001b[0mvalues\u001b[0m\u001b[0;34m(\u001b[0m\u001b[0;34m)\u001b[0m\u001b[0;34m)\u001b[0m\u001b[0;34m\u001b[0m\u001b[0;34m\u001b[0m\u001b[0m\n\u001b[0m\u001b[1;32m      4\u001b[0m \u001b[0mprint\u001b[0m\u001b[0;34m(\u001b[0m\u001b[0;34m\"Sum of all values:\"\u001b[0m\u001b[0;34m,\u001b[0m \u001b[0mtotal\u001b[0m\u001b[0;34m)\u001b[0m\u001b[0;34m\u001b[0m\u001b[0;34m\u001b[0m\u001b[0m\n",
            "\u001b[0;31mTypeError\u001b[0m: 'int' object is not callable"
          ]
        }
      ]
    },
    {
      "cell_type": "code",
      "source": [
        "D={1:5.6,2:7.8,3:6.6,4:8.7,5:7.7}\n",
        "print(D)\n",
        "D[3]=7.1\n",
        "print(D)"
      ],
      "metadata": {
        "colab": {
          "base_uri": "https://localhost:8080/"
        },
        "id": "654y4k4kWYPE",
        "outputId": "f8aafce8-e9c4-40e9-a753-b0773b5d0b15"
      },
      "execution_count": 50,
      "outputs": [
        {
          "output_type": "stream",
          "name": "stdout",
          "text": [
            "{1: 5.6, 2: 7.8, 3: 6.6, 4: 8.7, 5: 7.7}\n",
            "{1: 5.6, 2: 7.8, 3: 7.1, 4: 8.7, 5: 7.7}\n"
          ]
        }
      ]
    },
    {
      "cell_type": "code",
      "source": [
        "D={1:5.6,2:7.8,3:6.6,4:8.7,5:7.7}\n",
        "print(D)\n",
        "D.clear()\n",
        "print(D)"
      ],
      "metadata": {
        "colab": {
          "base_uri": "https://localhost:8080/"
        },
        "id": "gdgIeY1fWpyR",
        "outputId": "fc7cb509-79b4-4be6-e27e-ba6ba5337ced"
      },
      "execution_count": 54,
      "outputs": [
        {
          "output_type": "stream",
          "name": "stdout",
          "text": [
            "{1: 5.6, 2: 7.8, 3: 6.6, 4: 8.7, 5: 7.7}\n",
            "{}\n"
          ]
        }
      ]
    },
    {
      "cell_type": "markdown",
      "source": [
        "Set operations\n"
      ],
      "metadata": {
        "id": "_JDo0T1Wah5A"
      }
    },
    {
      "cell_type": "code",
      "source": [
        "S1= {10, 20, 30, 40, 50, 60}\n",
        "S2= {40, 50, 60, 70, 80, 90}\n",
        "S1.add(55)\n",
        "print(S1)\n",
        "S1.add(66)\n",
        "print(S1)"
      ],
      "metadata": {
        "colab": {
          "base_uri": "https://localhost:8080/"
        },
        "id": "2nb0Yc0nXZNF",
        "outputId": "02b2ca87-eedc-4e43-ebc1-c37afc11fa11"
      },
      "execution_count": 58,
      "outputs": [
        {
          "output_type": "stream",
          "name": "stdout",
          "text": [
            "{50, 20, 55, 40, 10, 60, 30}\n"
          ]
        }
      ]
    },
    {
      "cell_type": "code",
      "source": [
        "S1= {10, 20, 30, 40, 50, 60}\n",
        "S2= {40, 50, 60, 70, 80, 90}\n",
        "S1.remove(10)\n",
        "print(S1)\n",
        "S1.remove(30)\n",
        "print(S1)"
      ],
      "metadata": {
        "colab": {
          "base_uri": "https://localhost:8080/"
        },
        "id": "ePYJxlkaXZpM",
        "outputId": "e602c480-7067-4b6b-82af-6a74eab75851"
      },
      "execution_count": 59,
      "outputs": [
        {
          "output_type": "stream",
          "name": "stdout",
          "text": [
            "{50, 20, 40, 60, 30}\n",
            "{50, 20, 40, 60}\n"
          ]
        }
      ]
    },
    {
      "cell_type": "code",
      "source": [
        "S1= {10, 20, 30, 40, 50, 60}\n",
        "print(S1)\n",
        "if(40 in S1)==True:\n",
        "  print(\"present\")\n",
        "else:\n",
        "  print(\"not present\")"
      ],
      "metadata": {
        "colab": {
          "base_uri": "https://localhost:8080/"
        },
        "id": "-dUP7WP0XZ0Z",
        "outputId": "a12de02c-4b1c-4413-cc90-4617b9f1e42e"
      },
      "execution_count": 60,
      "outputs": [
        {
          "output_type": "stream",
          "name": "stdout",
          "text": [
            "{50, 20, 40, 10, 60, 30}\n",
            "present\n"
          ]
        }
      ]
    },
    {
      "cell_type": "code",
      "source": [
        "S1= {10, 20, 30, 40, 50, 60}\n",
        "S2= {40, 50, 60, 70, 80, 90}\n",
        "a=S1.union(S2)\n",
        "print(a)"
      ],
      "metadata": {
        "colab": {
          "base_uri": "https://localhost:8080/"
        },
        "id": "vRXE_1B_XZ7-",
        "outputId": "7632bb73-b6fd-4070-b05f-3d3580fcfbe9"
      },
      "execution_count": 61,
      "outputs": [
        {
          "output_type": "stream",
          "name": "stdout",
          "text": [
            "{70, 40, 10, 80, 50, 20, 90, 60, 30}\n"
          ]
        }
      ]
    },
    {
      "cell_type": "code",
      "source": [
        "S1= {10, 20, 30, 40, 50, 60}\n",
        "S2= {40, 50, 60, 70, 80, 90}\n",
        "a=S1.intersection(S2)\n",
        "print(a)"
      ],
      "metadata": {
        "colab": {
          "base_uri": "https://localhost:8080/"
        },
        "id": "cgy2XsGOXaCf",
        "outputId": "c275d37e-2e84-4c07-966b-a4583594b850"
      },
      "execution_count": 62,
      "outputs": [
        {
          "output_type": "stream",
          "name": "stdout",
          "text": [
            "{40, 50, 60}\n"
          ]
        }
      ]
    },
    {
      "cell_type": "code",
      "source": [
        "S1= {10, 20, 30, 40, 50, 60}\n",
        "S2= {40, 50, 60, 70, 80, 90}\n",
        "a=S1.difference(S2)\n",
        "print(a)"
      ],
      "metadata": {
        "colab": {
          "base_uri": "https://localhost:8080/"
        },
        "id": "SvMm-Ie9YJz8",
        "outputId": "73a78086-0f8f-4e24-86df-17365114351f"
      },
      "execution_count": 63,
      "outputs": [
        {
          "output_type": "stream",
          "name": "stdout",
          "text": [
            "{10, 20, 30}\n"
          ]
        }
      ]
    },
    {
      "cell_type": "markdown",
      "source": [
        "Q4. Write the following program.\n",
        "(i)\n",
        "WAP to print 100 random strings whose length between 6 and 8.\n",
        "(ii)\n",
        "WAP to print all prime numbers between 600 and 800.\n",
        "(iii) WAP to print all numbers between 100 and 1000 that are divisible by 7 and 9."
      ],
      "metadata": {
        "id": "zDDhHklgapiO"
      }
    },
    {
      "cell_type": "code",
      "source": [
        "import random as r\n",
        "import string as s\n",
        "print(\"Strings are--->\",s.ascii_letters)\n",
        "a=s.ascii_letters\n",
        "for i in range (1,101):\n",
        "  j=r.sample(a,6)\n",
        "  d=r.sample(a,8)\n",
        "  k=''.join(j)\n",
        "  l=''.join(d)\n",
        "  print(k)\n",
        "  print(l)"
      ],
      "metadata": {
        "colab": {
          "base_uri": "https://localhost:8080/"
        },
        "id": "9o57c88taVh1",
        "outputId": "a069c506-2fbd-4eb6-edd1-80a519771ecc"
      },
      "execution_count": 1,
      "outputs": [
        {
          "output_type": "stream",
          "name": "stdout",
          "text": [
            "Strings are---> abcdefghijklmnopqrstuvwxyzABCDEFGHIJKLMNOPQRSTUVWXYZ\n",
            "UhJKMx\n",
            "vYdomrTZ\n",
            "XDwoSl\n",
            "tpVSWgRy\n",
            "ZeBrJg\n",
            "oDVXzPuH\n",
            "fbZYvc\n",
            "REuKzvJF\n",
            "bGnzLS\n",
            "UTkZntaJ\n",
            "QxvAtV\n",
            "XAyOfzHZ\n",
            "tURycI\n",
            "KNLViCMq\n",
            "KTrCfP\n",
            "oDvZgGBM\n",
            "Tahwtx\n",
            "dsMviBwo\n",
            "NKCQOB\n",
            "FLkvQNwB\n",
            "eqBLgA\n",
            "gEtOlebw\n",
            "pkLFrK\n",
            "iWfQgBDm\n",
            "teGmrz\n",
            "nkfFTAuK\n",
            "GiUqkd\n",
            "xFzUHfBc\n",
            "UAxXzu\n",
            "oHqIJkea\n",
            "OPAoJk\n",
            "DRTabOMB\n",
            "jZpVTn\n",
            "EmSOsWtA\n",
            "kGbWDs\n",
            "bIGpFYoK\n",
            "GuZEIw\n",
            "NtudrnYK\n",
            "IZgJfu\n",
            "AJjBbakV\n",
            "FfcSiH\n",
            "zqpNHbko\n",
            "UKDaYl\n",
            "AQaSJLnV\n",
            "RymDwI\n",
            "DXcyRHjN\n",
            "lMZxNS\n",
            "HGvcJQZj\n",
            "SmqlIK\n",
            "gJCxWXru\n",
            "qmBoSA\n",
            "yxaBZmkl\n",
            "BrmoAl\n",
            "XxcRGSap\n",
            "amKOxG\n",
            "oGOuvgxt\n",
            "NkEtRr\n",
            "ogYVmAvM\n",
            "KgMaFG\n",
            "MrwGplUy\n",
            "wXAThy\n",
            "WkTMJrDV\n",
            "tXfBvZ\n",
            "qxdUKWsc\n",
            "gPpSyB\n",
            "ASgLOnjh\n",
            "kxrsPf\n",
            "lFdsmXGJ\n",
            "lhdsbT\n",
            "skzCNmDK\n",
            "lLczXd\n",
            "XOsCxfIW\n",
            "MDeHLZ\n",
            "VsghLBal\n",
            "IuEmoW\n",
            "vkiexpdl\n",
            "tJWmCU\n",
            "DlidESZW\n",
            "LYiMen\n",
            "vdSruApg\n",
            "rjwVGi\n",
            "aeZTVIcf\n",
            "LeSnHz\n",
            "DYCxohHj\n",
            "SvgOZB\n",
            "rkzsqQuX\n",
            "XsQBwT\n",
            "oPyzaRGN\n",
            "scYemM\n",
            "fRuYeQtq\n",
            "fpwXnq\n",
            "BJqiHwTl\n",
            "bCtInA\n",
            "rIFvKLfP\n",
            "hBujsD\n",
            "rFysvCUA\n",
            "utbyCR\n",
            "OXhEpaJP\n",
            "bqMUPo\n",
            "bzCLxXyN\n",
            "TDNgKc\n",
            "motjIHGy\n",
            "ckVdTW\n",
            "lCqbtdfD\n",
            "OeNuov\n",
            "UqCvjiLQ\n",
            "cbBtxg\n",
            "zwenWdiJ\n",
            "mCTRfK\n",
            "RDkBTvre\n",
            "wNeSjp\n",
            "selRUYjB\n",
            "SpAdgX\n",
            "VvcwkeHq\n",
            "WPptAZ\n",
            "qDkpOeni\n",
            "qeaCbm\n",
            "PVRqMiOA\n",
            "brkWVp\n",
            "WmyLBEXj\n",
            "WocQBd\n",
            "zxQblyYq\n",
            "fzqTJW\n",
            "WrcvuFYR\n",
            "AEesuP\n",
            "tKosFLJc\n",
            "dXwLWi\n",
            "VNjXxTFs\n",
            "wKpOWr\n",
            "cvdGtlWL\n",
            "vfKpGw\n",
            "ySNLnGOx\n",
            "TDsLAB\n",
            "zuNoysEr\n",
            "WLNaie\n",
            "XKHJwFZL\n",
            "xnVokF\n",
            "dCYuySLP\n",
            "LNbZnX\n",
            "HFMpnZOV\n",
            "EfVRKc\n",
            "cqgGLFIu\n",
            "IbJOZt\n",
            "JSIDXWGR\n",
            "doevNw\n",
            "kQEroLjZ\n",
            "rWkgwK\n",
            "slORpTvU\n",
            "PmCXVY\n",
            "dGpxTWmC\n",
            "hFKejs\n",
            "YxlwHXGd\n",
            "ZvwAVB\n",
            "LnBXrSoC\n",
            "GBpOfg\n",
            "rVfeWTPM\n",
            "NHAmqi\n",
            "HOabNiVE\n",
            "XcZakO\n",
            "gXLChHks\n",
            "gnuOEf\n",
            "xoJLIGCf\n",
            "hzYvdR\n",
            "vDwMuiWY\n",
            "TJyoFm\n",
            "woZeTlHs\n",
            "WLERMT\n",
            "qNlLJmoA\n",
            "tKgrpE\n",
            "eaFLYDPn\n",
            "tIrFqK\n",
            "dvwIkMTE\n",
            "RWjyZa\n",
            "vtchVzui\n",
            "QbUFng\n",
            "HUJMtwih\n",
            "CpKIuj\n",
            "EskDewdZ\n",
            "zvWdap\n",
            "mFANpXkM\n",
            "NTIQjX\n",
            "wndjGZyi\n",
            "YroIJw\n",
            "LKOFClbE\n",
            "mnhPVj\n",
            "SkrPwoYj\n",
            "kgEDmY\n",
            "TmCrqwhB\n",
            "PUneZW\n",
            "rvntaKpJ\n",
            "frStzs\n",
            "EmqyZXRV\n",
            "HLVhag\n",
            "TLkIySeO\n",
            "zlMabo\n",
            "EofkdxAe\n",
            "dmthjD\n",
            "qkaoDXbH\n",
            "ZSNmkU\n",
            "WxwLJEDG\n"
          ]
        }
      ]
    },
    {
      "cell_type": "code",
      "source": [
        "for num in range(600, 801):\n",
        "    for i in range(2, num):\n",
        "        if num % i == 0:\n",
        "            break\n",
        "    else:\n",
        "        print(num)"
      ],
      "metadata": {
        "colab": {
          "base_uri": "https://localhost:8080/"
        },
        "id": "iIGpG8Qol9rK",
        "outputId": "26a2898b-b20d-4bda-f887-f7524c92ebc9"
      },
      "execution_count": 70,
      "outputs": [
        {
          "output_type": "stream",
          "name": "stdout",
          "text": [
            "601\n",
            "607\n",
            "613\n",
            "617\n",
            "619\n",
            "631\n",
            "641\n",
            "643\n",
            "647\n",
            "653\n",
            "659\n",
            "661\n",
            "673\n",
            "677\n",
            "683\n",
            "691\n",
            "701\n",
            "709\n",
            "719\n",
            "727\n",
            "733\n",
            "739\n",
            "743\n",
            "751\n",
            "757\n",
            "761\n",
            "769\n",
            "773\n",
            "787\n",
            "797\n"
          ]
        }
      ]
    },
    {
      "cell_type": "code",
      "source": [
        "for num in range(100, 1001):\n",
        "    if num % 7 == 0 and num % 9 == 0:\n",
        "        print(num)"
      ],
      "metadata": {
        "colab": {
          "base_uri": "https://localhost:8080/"
        },
        "id": "gX-nSyklmAes",
        "outputId": "2cae2064-e5e2-4fad-b7e4-b08c620599be"
      },
      "execution_count": 71,
      "outputs": [
        {
          "output_type": "stream",
          "name": "stdout",
          "text": [
            "126\n",
            "189\n",
            "252\n",
            "315\n",
            "378\n",
            "441\n",
            "504\n",
            "567\n",
            "630\n",
            "693\n",
            "756\n",
            "819\n",
            "882\n",
            "945\n"
          ]
        }
      ]
    },
    {
      "cell_type": "markdown",
      "source": [
        "# Q5 WAP to create two lists of 10 random numbers between 10 and 30; Find  \n",
        "(i)\n",
        "Common numbers in the two lists\n",
        "(ii)\n",
        "Unique numbers in both the list\n",
        "(iii) Minimum in both the list\n",
        "(iv) Maximum in both the list\n",
        "(v)\n",
        "Sum of both the lists\n"
      ],
      "metadata": {
        "id": "7e9PxaSmmUvO"
      }
    },
    {
      "cell_type": "code",
      "source": [
        "import random\n",
        "l1=[random.randint(10,30) for _ in range(10)]\n",
        "l2=[random.randint(10,30) for _ in range(10)]\n",
        "print(\"list 1=\",l1)\n",
        "print(\"list 2=\",l2)\n",
        "c = list(set(l1) & set(l2))\n",
        "print(\"Common numbers:\", c)"
      ],
      "metadata": {
        "colab": {
          "base_uri": "https://localhost:8080/"
        },
        "id": "G9hgZUB-mx88",
        "outputId": "e017bb3e-8baf-48c3-dd59-0a1e7ae297f0"
      },
      "execution_count": 8,
      "outputs": [
        {
          "output_type": "stream",
          "name": "stdout",
          "text": [
            "list 1= [18, 11, 23, 23, 19, 13, 27, 24, 28, 29]\n",
            "list 2= [24, 13, 25, 27, 20, 29, 29, 17, 28, 18]\n",
            "Common numbers: [13, 18, 24, 27, 28, 29]\n"
          ]
        }
      ]
    },
    {
      "cell_type": "code",
      "source": [
        "import random\n",
        "l1=[random.randint(10,30) for _ in range(10)]\n",
        "l2=[random.randint(10,30) for _ in range(10)]\n",
        "print(\"list 1=\",l1)\n",
        "print(\"list 2=\",l2)\n",
        "u = list(set(l1) ^ set(l2))\n",
        "print(\"Unique numbers in both lists:\", u)"
      ],
      "metadata": {
        "colab": {
          "base_uri": "https://localhost:8080/"
        },
        "id": "jBfY-P2xmyQr",
        "outputId": "f435da6d-11de-4d14-b4e1-9c62ed51c8d0"
      },
      "execution_count": 9,
      "outputs": [
        {
          "output_type": "stream",
          "name": "stdout",
          "text": [
            "list 1= [17, 24, 14, 11, 20, 16, 25, 13, 12, 15]\n",
            "list 2= [16, 27, 18, 27, 29, 28, 21, 19, 23, 10]\n",
            "Unique numbers in both lists: [10, 11, 12, 13, 14, 15, 17, 18, 19, 20, 21, 23, 24, 25, 27, 28, 29]\n"
          ]
        }
      ]
    },
    {
      "cell_type": "code",
      "source": [
        "import random\n",
        "l1=[random.randint(10,30) for _ in range(10)]\n",
        "l2=[random.randint(10,30) for _ in range(10)]\n",
        "print(\"list 1=\",l1)\n",
        "print(\"list 2=\",l2)\n",
        "print(\"Minimum in List 1:\", min(l1))\n",
        "print(\"Minimum in List 2:\", min(l2))"
      ],
      "metadata": {
        "colab": {
          "base_uri": "https://localhost:8080/"
        },
        "id": "OmdHg51UmyWR",
        "outputId": "4aa52846-ba39-4569-d285-4b93125dcabc"
      },
      "execution_count": 10,
      "outputs": [
        {
          "output_type": "stream",
          "name": "stdout",
          "text": [
            "list 1= [24, 20, 30, 15, 24, 17, 14, 17, 23, 22]\n",
            "list 2= [27, 10, 28, 21, 27, 29, 17, 21, 21, 22]\n",
            "Minimum in List 1: 14\n",
            "Minimum in List 2: 10\n"
          ]
        }
      ]
    },
    {
      "cell_type": "code",
      "source": [
        "import random\n",
        "l1=[random.randint(10,30) for _ in range(10)]\n",
        "l2=[random.randint(10,30) for _ in range(10)]\n",
        "print(\"list 1=\",l1)\n",
        "print(\"list 2=\",l2)\n",
        "print(\"Maximum in List 1:\", max(l1))\n",
        "print(\"Maximum in List 2:\", max(l2))"
      ],
      "metadata": {
        "colab": {
          "base_uri": "https://localhost:8080/"
        },
        "id": "iwTlY4h5m3a2",
        "outputId": "330225df-c7c4-472b-bf8b-cd826a24699b"
      },
      "execution_count": 12,
      "outputs": [
        {
          "output_type": "stream",
          "name": "stdout",
          "text": [
            "list 1= [19, 23, 12, 23, 19, 11, 12, 29, 18, 17]\n",
            "list 2= [25, 20, 18, 15, 17, 13, 25, 24, 27, 30]\n",
            "Maximum in List 1: 29\n",
            "Maximum in List 2: 30\n"
          ]
        }
      ]
    },
    {
      "cell_type": "code",
      "source": [
        "import random\n",
        "l1=[random.randint(10,30) for _ in range(10)]\n",
        "l2=[random.randint(10,30) for _ in range(10)]\n",
        "print(\"list 1=\",l1)\n",
        "print(\"list 2=\",l2)\n",
        "print(\"Sum of List 1:\", sum(l1))\n",
        "print(\"Sum of List 2:\", sum(l2))"
      ],
      "metadata": {
        "colab": {
          "base_uri": "https://localhost:8080/"
        },
        "id": "H-UCECdXm3jd",
        "outputId": "2fe4d42c-d491-4dfc-be39-9375dab41d18"
      },
      "execution_count": 13,
      "outputs": [
        {
          "output_type": "stream",
          "name": "stdout",
          "text": [
            "list 1= [13, 20, 18, 12, 14, 27, 21, 22, 20, 15]\n",
            "list 2= [20, 19, 10, 15, 30, 21, 10, 23, 29, 11]\n",
            "Sum of List 1: 182\n",
            "Sum of List 2: 188\n"
          ]
        }
      ]
    },
    {
      "cell_type": "markdown",
      "source": [
        "Q6. WAP to create a list of 100 random numbers between 100 and 900. Count and print the:  \n",
        " (i) All odd number\n",
        "(ii)\n",
        "All even numbers\n",
        "(iii) All prime numbers"
      ],
      "metadata": {
        "id": "3Y2RQ88gm5Q3"
      }
    },
    {
      "cell_type": "code",
      "source": [
        "import random\n",
        "l1=[random.randint(100,901) for _ in range(10)]\n",
        "odd_numbers = [num for num in l1 if num % 2 != 0]\n",
        "print(\"Total odd numbers:\", len(odd_numbers))"
      ],
      "metadata": {
        "colab": {
          "base_uri": "https://localhost:8080/"
        },
        "id": "AAAJu-VwngoG",
        "outputId": "59f137ad-10d8-4209-aaf2-387b6ffc9258"
      },
      "execution_count": 14,
      "outputs": [
        {
          "output_type": "stream",
          "name": "stdout",
          "text": [
            "Total odd numbers: 6\n"
          ]
        }
      ]
    },
    {
      "cell_type": "code",
      "source": [
        "import random\n",
        "l1=[random.randint(100,901) for _ in range(10)]\n",
        "even_numbers = [num for num in l1 if num % 2 == 0]\n",
        "print(\"Total even numbers:\", len(even_numbers))"
      ],
      "metadata": {
        "colab": {
          "base_uri": "https://localhost:8080/"
        },
        "id": "W9NSU9Ssng2V",
        "outputId": "2e60affc-a497-4927-bf3c-aa0d28f6368a"
      },
      "execution_count": 16,
      "outputs": [
        {
          "output_type": "stream",
          "name": "stdout",
          "text": [
            "Total even numbers: 4\n"
          ]
        }
      ]
    },
    {
      "cell_type": "code",
      "source": [
        "import random\n",
        "l1=[random.randint(100,901) for _ in range(10)]\n",
        "def is_prime(n):\n",
        "    if n < 2:\n",
        "        return False\n",
        "    for i in range(2, int(n**0.5)+1):\n",
        "        if n % i == 0:\n",
        "            return False\n",
        "    return True\n",
        "prime_numbers = [num for num in l1 if is_prime(num)]\n",
        "print(\"Total prime numbers:\", len(prime_numbers))"
      ],
      "metadata": {
        "colab": {
          "base_uri": "https://localhost:8080/"
        },
        "id": "ESOkNm_Tng-7",
        "outputId": "e63c12a5-f56d-4fb6-b932-3ff0b73717c1"
      },
      "execution_count": 19,
      "outputs": [
        {
          "output_type": "stream",
          "name": "stdout",
          "text": [
            "Total prime numbers: 3\n"
          ]
        }
      ]
    },
    {
      "cell_type": "markdown",
      "source": [
        "Q7. D is a dictionary defined as D={1:\"One\",2:\"Two\",3:\"Three\",4:\"Four\", 5:\"Five\"}.  \n",
        "WAP to read all the keys and values from dictionary and write to the file in the given below format.\n",
        "Key1, Value1\n",
        "Key2, Value2\n",
        "Key3, Value3"
      ],
      "metadata": {
        "id": "O48Zh0H-nh_Q"
      }
    },
    {
      "cell_type": "code",
      "source": [
        "D = {1: \"One\", 2: \"Two\", 3: \"Three\", 4: \"Four\", 5: \"Five\"}\n",
        "f = open(\"dictionary_output.txt\", \"w\")\n",
        "for k in D:\n",
        "    line = str(k) + \", \" + D[k] + \"\\n\"\n",
        "    f.write(line)\n",
        "f.close()\n",
        "print(\"Data written to file using alternate method.\")"
      ],
      "metadata": {
        "colab": {
          "base_uri": "https://localhost:8080/"
        },
        "id": "kke4R2xmnvJz",
        "outputId": "b93023ef-1748-45a1-9dfe-097aa424e8f2"
      },
      "execution_count": 21,
      "outputs": [
        {
          "output_type": "stream",
          "name": "stdout",
          "text": [
            "Data written to file using alternate method.\n"
          ]
        }
      ]
    },
    {
      "cell_type": "markdown",
      "source": [
        "Q8. L is a list defined as L={\"One\",\"Two\",\"Three\",\"Four\",\"Five\"}.\n",
        "WAP to count the length of reach element from a list and write to the file in the given below format:\n",
        "One, 3\n",
        "Two, 3\n",
        "Four, 4"
      ],
      "metadata": {
        "id": "TzRWFgRrnwyq"
      }
    },
    {
      "cell_type": "code",
      "source": [
        "L = [\"One\", \"Two\", \"Three\", \"Four\", \"Five\"]\n",
        "f = open(\"list_lengths.txt\", \"w\")\n",
        "for word in L:\n",
        "    f.write(word + \", \" + str(len(word)) + \"\\n\")\n",
        "f.close()\n",
        "print(\"Done writing to file.\")"
      ],
      "metadata": {
        "colab": {
          "base_uri": "https://localhost:8080/"
        },
        "id": "q-vFaNX5n5RN",
        "outputId": "2f1cb246-9cb2-45cc-8e33-bda2e8a88392"
      },
      "execution_count": 22,
      "outputs": [
        {
          "output_type": "stream",
          "name": "stdout",
          "text": [
            "Done writing to file.\n"
          ]
        }
      ]
    },
    {
      "cell_type": "markdown",
      "source": [
        "Q9. Write to the file 100 random strings whose length between 10 and 15."
      ],
      "metadata": {
        "id": "9q37MpBHn6nr"
      }
    },
    {
      "cell_type": "code",
      "source": [
        "import random\n",
        "import string\n",
        "f = open(\"abc.txt\", \"w\")\n",
        "for i in range(100):\n",
        "    n = random.randint(10, 15)\n",
        "    s = \"\"\n",
        "    for j in range(n):\n",
        "        s += random.choice(string.ascii_letters)\n",
        "    f.write(s + \"\\n\")\n",
        "f.close()\n",
        "print(\"Done writing 100 random strings.\")"
      ],
      "metadata": {
        "colab": {
          "base_uri": "https://localhost:8080/"
        },
        "id": "Xk8gzahooCQz",
        "outputId": "ae0de10e-d36b-41fb-e975-857becccbafe"
      },
      "execution_count": 24,
      "outputs": [
        {
          "output_type": "stream",
          "name": "stdout",
          "text": [
            "Done writing 100 random strings.\n"
          ]
        }
      ]
    },
    {
      "cell_type": "markdown",
      "source": [
        "Q10. Write to the file all prime numbers between 600 and 800"
      ],
      "metadata": {
        "id": "Gs78IhyKoD0v"
      }
    },
    {
      "cell_type": "code",
      "source": [
        "f = open(\"abc.txt\", \"w\")\n",
        "for num in range(600, 801):\n",
        "    for i in range(2, num):\n",
        "        if num % i == 0:\n",
        "            break\n",
        "    else:\n",
        "        f.write(str(num) + \"\\n\")\n",
        "f.close()\n",
        "print(\"Prime numbers written to file.\")"
      ],
      "metadata": {
        "colab": {
          "base_uri": "https://localhost:8080/"
        },
        "id": "smbOa6G0oK-X",
        "outputId": "8908d6b2-12fa-44fa-f799-48e20c75e988"
      },
      "execution_count": 25,
      "outputs": [
        {
          "output_type": "stream",
          "name": "stdout",
          "text": [
            "Prime numbers written to file.\n"
          ]
        }
      ]
    },
    {
      "cell_type": "markdown",
      "source": [
        "Q13. WAP to create a dictionary of student marks in five subjects and you have to find the student  \n",
        "having maximum and minimum average marks."
      ],
      "metadata": {
        "id": "6UhGXDEFogxL"
      }
    },
    {
      "cell_type": "code",
      "source": [
        "marks = {\n",
        "    \"Aman\": [78, 85, 92, 70, 88],\n",
        "    \"Priya\": [65, 70, 60, 75, 68],\n",
        "    \"Rahul\": [90, 92, 94, 91, 93],\n",
        "    \"Seema\": [55, 60, 58, 57, 62]\n",
        "}\n",
        "averages = {}\n",
        "for name in marks:\n",
        "    avg = sum(marks[name]) / 5\n",
        "    averages[name] = avg\n",
        "max_student = max(averages, key=averages.get)\n",
        "min_student = min(averages, key=averages.get)\n",
        "print(\"Student with maximum average:\", max_student, \"->\", averages[max_student])\n",
        "print(\"Student with minimum average:\", min_student, \"->\", averages[min_student])"
      ],
      "metadata": {
        "colab": {
          "base_uri": "https://localhost:8080/"
        },
        "id": "CAf3m59ZonbA",
        "outputId": "b47e034f-599e-4cb7-efa5-332872415f52"
      },
      "execution_count": 28,
      "outputs": [
        {
          "output_type": "stream",
          "name": "stdout",
          "text": [
            "Student with maximum average: Rahul -> 92.0\n",
            "Student with minimum average: Seema -> 58.4\n"
          ]
        }
      ]
    },
    {
      "cell_type": "markdown",
      "source": [],
      "metadata": {
        "id": "nOOBiV4lnwiT"
      }
    }
  ]
}